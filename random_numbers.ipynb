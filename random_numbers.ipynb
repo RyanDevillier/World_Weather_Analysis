{
 "cells": [
  {
   "cell_type": "code",
   "execution_count": 1,
   "id": "b832c669",
   "metadata": {},
   "outputs": [],
   "source": [
    "# Import the random module\n",
    "import random"
   ]
  },
  {
   "cell_type": "code",
   "execution_count": 2,
   "id": "08585d8c",
   "metadata": {},
   "outputs": [
    {
     "data": {
      "text/plain": [
       "-66"
      ]
     },
     "execution_count": 2,
     "metadata": {},
     "output_type": "execute_result"
    }
   ],
   "source": [
    "random.randint(-90, 90)"
   ]
  },
  {
   "cell_type": "code",
   "execution_count": 3,
   "id": "6fb93a1d",
   "metadata": {},
   "outputs": [
    {
     "data": {
      "text/plain": [
       "0.4807787103164758"
      ]
     },
     "execution_count": 3,
     "metadata": {},
     "output_type": "execute_result"
    }
   ],
   "source": [
    "random.random()"
   ]
  },
  {
   "cell_type": "code",
   "execution_count": 5,
   "id": "a47c03fb",
   "metadata": {},
   "outputs": [
    {
     "data": {
      "text/plain": [
       "34.5041025437002"
      ]
     },
     "execution_count": 5,
     "metadata": {},
     "output_type": "execute_result"
    }
   ],
   "source": [
    "random_number = random.randint(-90, 89) + random.random()\n",
    "random_number"
   ]
  },
  {
   "cell_type": "code",
   "execution_count": 8,
   "id": "616559f9",
   "metadata": {},
   "outputs": [
    {
     "data": {
      "text/plain": [
       "[26.889128151325597,\n",
       " 35.839131574628176,\n",
       " -16.50346257973243,\n",
       " -63.09650495882168,\n",
       " -60.35048804246558,\n",
       " 55.19694019505538,\n",
       " -76.41774519568014,\n",
       " -60.43474403385132,\n",
       " 36.370585751455714,\n",
       " -38.734349327166285]"
      ]
     },
     "execution_count": 8,
     "metadata": {},
     "output_type": "execute_result"
    }
   ],
   "source": [
    "# Generating 10 random floating-point decimal laitudes between -90 and 89\n",
    "x = 1\n",
    "latitudes = []\n",
    "\n",
    "while x < 11:\n",
    "    random_lat = random.randint(-90, 89) + random.random()\n",
    "    latitudes.append(random_lat)\n",
    "    x += 1\n",
    "    \n",
    "latitudes"
   ]
  },
  {
   "cell_type": "code",
   "execution_count": 45,
   "id": "f493d3c7",
   "metadata": {},
   "outputs": [
    {
     "data": {
      "text/plain": [
       "18"
      ]
     },
     "execution_count": 45,
     "metadata": {},
     "output_type": "execute_result"
    }
   ],
   "source": [
    "random.randrange(-90, 90, step = 3)"
   ]
  },
  {
   "cell_type": "code",
   "execution_count": 46,
   "id": "400e7e02",
   "metadata": {},
   "outputs": [
    {
     "data": {
      "text/plain": [
       "-75.681694011019"
      ]
     },
     "execution_count": 46,
     "metadata": {},
     "output_type": "execute_result"
    }
   ],
   "source": [
    "random.uniform(-90, 90)"
   ]
  },
  {
   "cell_type": "code",
   "execution_count": 48,
   "id": "e9113e68",
   "metadata": {},
   "outputs": [],
   "source": [
    "# Importing the NumPy module\n",
    "import numpy as np"
   ]
  },
  {
   "cell_type": "code",
   "execution_count": 49,
   "id": "5b649171",
   "metadata": {},
   "outputs": [
    {
     "data": {
      "text/plain": [
       "89.34764236323386"
      ]
     },
     "execution_count": 49,
     "metadata": {},
     "output_type": "execute_result"
    }
   ],
   "source": [
    "np.random.uniform(-90.000, 90.000)"
   ]
  },
  {
   "cell_type": "code",
   "execution_count": 51,
   "id": "c4f0144d",
   "metadata": {},
   "outputs": [
    {
     "data": {
      "text/plain": [
       "array([-52.82078429,  46.50313818, -81.86299771,   7.82336757,\n",
       "       -79.98934132,  -8.93726051, -18.69249276,  86.78047032,\n",
       "       -74.61872511,  78.33433984, -16.06014368, -62.25803832,\n",
       "       -87.13250022, -55.61591701,  41.25556621, -88.84188133,\n",
       "        31.78448588,  63.44622635,  77.43035049, -14.10835953,\n",
       "       -39.13634423, -58.06445548, -47.24185972,  -1.72228289,\n",
       "        -1.03663191,  20.31887942,  45.60548949, -22.3244893 ,\n",
       "       -41.12852386, -24.89173586, -35.525121  , -89.38219136,\n",
       "        20.29793704,  13.51037634, -83.44402524,  47.35892113,\n",
       "        77.3956836 ,  57.80143537,  38.16690194,  63.28823758,\n",
       "       -88.4458868 , -52.81322398, -69.71781211, -50.1174943 ,\n",
       "       -54.40134046,  25.27170442,  50.72920959,  48.37683632,\n",
       "       -50.34278543,  38.13254171])"
      ]
     },
     "execution_count": 51,
     "metadata": {},
     "output_type": "execute_result"
    }
   ],
   "source": [
    "np.random.uniform(-90.000, 90.000, size  = 50)"
   ]
  },
  {
   "cell_type": "code",
   "execution_count": 52,
   "id": "0bf82d6c",
   "metadata": {},
   "outputs": [],
   "source": [
    "# Importing the timeit module\n",
    "import timeit"
   ]
  },
  {
   "cell_type": "code",
   "execution_count": 53,
   "id": "47abb7eb",
   "metadata": {},
   "outputs": [
    {
     "name": "stdout",
     "output_type": "stream",
     "text": [
      "14.6 µs ± 353 ns per loop (mean ± std. dev. of 7 runs, 100000 loops each)\n"
     ]
    }
   ],
   "source": [
    "%timeit np.random.uniform(-90.000, 90.000, size = 1500)"
   ]
  },
  {
   "cell_type": "code",
   "execution_count": 54,
   "id": "3ca0acb0",
   "metadata": {},
   "outputs": [
    {
     "name": "stdout",
     "output_type": "stream",
     "text": [
      "1.79 ms ± 54.6 µs per loop (mean ± std. dev. of 7 runs, 1000 loops each)\n"
     ]
    }
   ],
   "source": [
    "def latitudes(size):\n",
    "    latitudes = []\n",
    "    x = 0\n",
    "    while x < (size):\n",
    "        random_lat = random.randint(-90, 90) + random.random()\n",
    "        latitudes.append(random_lat)\n",
    "        x += 1\n",
    "    return latitudes\n",
    "# Call the function with 1500.\n",
    "%timeit latitudes(1500)"
   ]
  },
  {
   "cell_type": "code",
   "execution_count": null,
   "id": "09c31dbd",
   "metadata": {},
   "outputs": [],
   "source": []
  }
 ],
 "metadata": {
  "kernelspec": {
   "display_name": "PythonData",
   "language": "python",
   "name": "pythondata"
  },
  "language_info": {
   "codemirror_mode": {
    "name": "ipython",
    "version": 3
   },
   "file_extension": ".py",
   "mimetype": "text/x-python",
   "name": "python",
   "nbconvert_exporter": "python",
   "pygments_lexer": "ipython3",
   "version": "3.7.13"
  }
 },
 "nbformat": 4,
 "nbformat_minor": 5
}
